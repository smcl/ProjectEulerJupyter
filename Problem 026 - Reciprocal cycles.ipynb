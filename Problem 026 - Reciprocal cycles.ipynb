{
 "cells": [
  {
   "cell_type": "markdown",
   "metadata": {
    "collapsed": true,
    "deletable": true,
    "editable": true
   },
   "source": [
    "A unit fraction contains 1 in the numerator. The decimal representation of the unit fractions with denominators 2 to 10 are given:\n",
    "\n",
    "    1/2  = 0.5\n",
    "    1/3  = 0.(3)\n",
    "    1/4  = 0.25\n",
    "    1/5  = 0.2\n",
    "    1/6  = 0.1(6)\n",
    "    1/7  = 0.(142857)\n",
    "    1/8  = 0.125\n",
    "    1/9  = 0.(1)\n",
    "    1/10 = 0.1\n",
    "    \n",
    "Where `0.1(6)` means `0.166666...`, and has a 1-digit recurring cycle. It can be seen that `1/7` has a 6-digit recurring cycle.\n",
    "\n",
    "Find the value of `d < 1000` for which `1/d` contains the longest recurring cycle in its decimal fraction part."
   ]
  },
  {
   "cell_type": "code",
   "execution_count": 1,
   "metadata": {
    "collapsed": false,
    "deletable": true,
    "editable": true
   },
   "outputs": [
    {
     "data": {
      "text/plain": [
       "983\n"
      ]
     },
     "metadata": {},
     "output_type": "display_data"
    }
   ],
   "source": [
    "open System.Collections.Generic\n",
    "\n",
    "let rec maxPatternLength' num den pos (remainders:IDictionary<int,int>) = \n",
    "    let rem = num % den\n",
    "    if remainders.ContainsKey(rem) then\n",
    "        pos - remainders.[rem]\n",
    "    else\n",
    "        remainders.Add(rem, pos)\n",
    "        maxPatternLength' (10 * rem) den (1 + pos) remainders\n",
    "\n",
    "let maxPatternLength n =\n",
    "    maxPatternLength' 1 n 0 (new Dictionary<int, int>())\n",
    "\n",
    "[2..1000]\n",
    "|> List.map (fun n -> (n, (maxPatternLength n)))\n",
    "|> List.sortBy (fun (n, patternLength) -> patternLength)\n",
    "|> List.last\n",
    "|> fst\n",
    "|> printfn \"%A\""
   ]
  },
  {
   "cell_type": "code",
   "execution_count": null,
   "metadata": {
    "collapsed": true,
    "deletable": true,
    "editable": true
   },
   "outputs": [],
   "source": []
  }
 ],
 "metadata": {
  "kernelspec": {
   "display_name": "F#",
   "language": "fsharp",
   "name": "ifsharp"
  },
  "language": "fsharp",
  "language_info": {
   "codemirror_mode": "",
   "file_extension": ".fs",
   "mimetype": "text/x-fsharp",
   "name": "fsharp",
   "nbconvert_exporter": "",
   "pygments_lexer": "",
   "version": "4.3.1.0"
  }
 },
 "nbformat": 4,
 "nbformat_minor": 2
}
