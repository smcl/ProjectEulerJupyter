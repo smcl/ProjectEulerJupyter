{
 "cells": [
  {
   "cell_type": "markdown",
   "metadata": {},
   "source": [
    "The number 3797 has an interesting property. Being prime itself, it is possible to continuously remove digits from left to right, and remain prime at each stage: 3797, 797, 97, and 7. Similarly we can work from right to left: 3797, 379, 37, and 3.\n",
    "\n",
    "Find the sum of the only eleven primes that are both truncatable from left to right and right to left.\n",
    "\n",
    "NOTE: 2, 3, 5, and 7 are not considered to be truncatable primes."
   ]
  },
  {
   "cell_type": "code",
   "execution_count": 1,
   "metadata": {
    "collapsed": false
   },
   "outputs": [],
   "source": [
    "let compositesInRange fromNum toNum =\n",
    "    [|2 .. toNum/fromNum|]\n",
    "    |> Array.map (fun x -> fromNum * x)\n",
    "\n",
    "let primesTo n =\n",
    "    // start off assuming every number from 2 .. n is prime\n",
    "    let isPrime = Array.append [| false; false |] (Array.init (1+n) (fun _ -> true))       \n",
    "    \n",
    "    // simple sieve of eratosthenes - update \"primeness\" of\n",
    "    // each number in the isPrime array\n",
    "    for x in 2 .. int(sqrt(double(n))) do \n",
    "        if isPrime.[x] then             \n",
    "            compositesInRange x n\n",
    "            |> Array.map (fun i -> isPrime.[i] <- false)\n",
    "            |> ignore\n",
    "                \n",
    "    // now return numbers which are \"true\" in isPrime array\n",
    "    let primesList =\n",
    "        [|2..n|]\n",
    "        |> Array.filter (fun x -> isPrime.[x])\n",
    "        \n",
    "    (primesList, isPrime)\n"
   ]
  },
  {
   "cell_type": "code",
   "execution_count": 8,
   "metadata": {
    "collapsed": false
   },
   "outputs": [
    {
     "data": {
      "text/plain": [
       "748317"
      ]
     },
     "execution_count": 8,
     "metadata": {},
     "output_type": "execute_result"
    }
   ],
   "source": [
    "let primesList, isPrime = primesTo 1000000\n",
    "\n",
    "let leftTruncate n =\n",
    "    n.ToString().Substring(1)\n",
    "    |> int\n",
    "\n",
    "let rightTruncate n = \n",
    "    let n_str = n.ToString()\n",
    "    \n",
    "    n_str\n",
    "    new System.String(n_array.[0..(n_array.Length-2)])\n",
    "    |> int\n",
    "\n",
    "let rec isTruncatablePrimeBase truncate n =\n",
    "    if n > 10 then isPrime.[n] && (isTruncatablePrimeBase truncate (truncate n))\n",
    "    else isPrime.[n]\n",
    "\n",
    "let isTruncatablePrime n =\n",
    "    (isTruncatablePrimeBase leftTruncate n) && (isTruncatablePrimeBase rightTruncate n) \n",
    "\n",
    "primesList\n",
    "|> Array.filter (fun n -> n > 7)\n",
    "|> Array.filter isTruncatablePrime\n",
    "|> Array.sum"
   ]
  },
  {
   "cell_type": "code",
   "execution_count": null,
   "metadata": {
    "collapsed": true
   },
   "outputs": [],
   "source": []
  }
 ],
 "metadata": {
  "kernelspec": {
   "display_name": "F#",
   "language": "fsharp",
   "name": "ifsharp"
  },
  "language": "fsharp",
  "language_info": {
   "codemirror_mode": "",
   "file_extension": ".fs",
   "mimetype": "text/x-fsharp",
   "name": "fsharp",
   "nbconvert_exporter": "",
   "pygments_lexer": "",
   "version": "4.3.1.0"
  }
 },
 "nbformat": 4,
 "nbformat_minor": 2
}
