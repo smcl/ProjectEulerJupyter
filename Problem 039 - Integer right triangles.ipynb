{
 "cells": [
  {
   "cell_type": "markdown",
   "metadata": {},
   "source": [
    "If p is the perimeter of a right angle triangle with integral length sides, {a,b,c}, there are exactly three solutions for p = 120.\n",
    "\n",
    "    {20,48,52}, {24,45,51}, {30,40,50}\n",
    "\n",
    "For which value of p ≤ 1000, is the number of solutions maximised?"
   ]
  },
  {
   "cell_type": "code",
   "execution_count": 10,
   "metadata": {
    "collapsed": false
   },
   "outputs": [
    {
     "data": {
      "text/plain": [
       "840"
      ]
     },
     "execution_count": 10,
     "metadata": {},
     "output_type": "execute_result"
    }
   ],
   "source": [
    "let square x = x * x\n",
    "\n",
    "// writing this out long-form, probably faster?\n",
    "let sortTriple (a,b,c) =\n",
    "    if a >= b then\n",
    "        if b >= c then (a,b,c) else (a,c,b)\n",
    "    elif b >= a then\n",
    "        if a >= c then (b,a,c) else (b,c,a)\n",
    "    else\n",
    "        if a >= b then (c,a,b) else (c,b,a)\n",
    "\n",
    "let pairWith lst x = \n",
    "    lst |> List.map (fun y -> (x,y)) \n",
    "\n",
    "// assumes sorted in descending order\n",
    "let isRightTriangle (a,b,c) = \n",
    "    (square a) = (square b) + (square c) \n",
    "\n",
    "let solutionsFor p =\n",
    "    [1..(p-1)]\n",
    "    |> List.map (fun a -> pairWith [1..(a-1)] a)\n",
    "    |> List.concat\n",
    "    |> List.filter (fun (a,b) -> (p-a-b) > 0)\n",
    "    |> List.map (fun (a,b) -> sortTriple (a,b,p-a-b))        \n",
    "    |> List.filter isRightTriangle\n",
    "    |> List.distinct\n",
    "    |> List.length \n",
    "\n",
    "[5..1000]\n",
    "|> List.map (fun p -> (p, (solutionsFor p)))\n",
    "|> List.sortBy (fun (p, solns) -> -solns)\n",
    "|> List.head\n",
    "|> fst\n",
    "\n",
    "//solutionsFor 120"
   ]
  }
 ],
 "metadata": {
  "kernelspec": {
   "display_name": "F#",
   "language": "fsharp",
   "name": "ifsharp"
  },
  "language": "fsharp",
  "language_info": {
   "codemirror_mode": "",
   "file_extension": ".fs",
   "mimetype": "text/x-fsharp",
   "name": "fsharp",
   "nbconvert_exporter": "",
   "pygments_lexer": "",
   "version": "4.3.1.0"
  }
 },
 "nbformat": 4,
 "nbformat_minor": 2
}
