{
 "cells": [
  {
   "cell_type": "markdown",
   "metadata": {},
   "source": [
    "The series, `1^1 + 2^2 + 3^3 + ... + 10^10 = 10405071317`.\n",
    "\n",
    "Find the last ten digits of the series, `1^1 + 2^2 + 3^3 + ... + 1000^1000`."
   ]
  },
  {
   "cell_type": "code",
   "execution_count": 32,
   "metadata": {
    "collapsed": false
   },
   "outputs": [
    {
     "data": {
      "text/plain": [
       "\"9110846700\""
      ]
     },
     "execution_count": 32,
     "metadata": {},
     "output_type": "execute_result"
    }
   ],
   "source": [
    "let selfPower (n:int) = pown (bigint(n)) n\n",
    "\n",
    "let subTotal = \n",
    "    [1..1000]\n",
    "    |> List.map selfPower\n",
    "    |> List.sum\n",
    "    |> string\n",
    "    \n",
    "let subTotalArray = subTotal.ToCharArray()\n",
    "\n",
    "subTotalArray.[(subTotalArray.Length - 10) .. (subTotalArray.Length - 1)]\n",
    "|> Array.map string\n",
    "|> String.concat \"\""
   ]
  }
 ],
 "metadata": {
  "kernelspec": {
   "display_name": "F#",
   "language": "fsharp",
   "name": "ifsharp"
  },
  "language": "fsharp",
  "language_info": {
   "codemirror_mode": "",
   "file_extension": ".fs",
   "mimetype": "text/x-fsharp",
   "name": "fsharp",
   "nbconvert_exporter": "",
   "pygments_lexer": "",
   "version": "4.3.1.0"
  }
 },
 "nbformat": 4,
 "nbformat_minor": 2
}
