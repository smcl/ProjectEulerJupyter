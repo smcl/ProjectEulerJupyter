{
 "cells": [
  {
   "cell_type": "markdown",
   "metadata": {},
   "source": [
    "Surprisingly there are only three numbers that can be written as the sum of fourth powers of their digits:\n",
    "\n",
    "    1634 = 1^4 + 6^4 + 3^4 + 4^4\n",
    "    8208 = 8^4 + 2^4 + 0^4 + 8^4\n",
    "    9474 = 9^4 + 4^4 + 7^4 + 4^4\n",
    "    As 1 = 1^4 is not a sum it is not included.\n",
    "\n",
    "The sum of these numbers is `1634 + 8208 + 9474 = 19316`.\n",
    "\n",
    "Find the sum of all the numbers that can be written as the sum of fifth powers of their digits.\n",
    "\n"
   ]
  },
  {
   "cell_type": "code",
   "execution_count": 19,
   "metadata": {
    "collapsed": false
   },
   "outputs": [
    {
     "data": {
      "text/plain": [
       "443839"
      ]
     },
     "execution_count": 19,
     "metadata": {},
     "output_type": "execute_result"
    }
   ],
   "source": [
    "let raiseTo pow n =\n",
    "    double(n) ** double(pow)\n",
    "\n",
    "let sumPowerDigits pow n = \n",
    "    string(n).ToCharArray()\n",
    "    |> Array.map (string >> int >> (raiseTo pow))  \n",
    "    |> Array.sum\n",
    "    |> int\n",
    "    \n",
    "[2..1000000] // assume less than 1 million...\n",
    "|> List.map (fun n -> (n, sumPowerDigits 5 n))\n",
    "|> List.filter (fun (a,b) -> a = b)\n",
    "|> List.map fst\n",
    "|> List.sum"
   ]
  },
  {
   "cell_type": "code",
   "execution_count": null,
   "metadata": {
    "collapsed": true
   },
   "outputs": [],
   "source": []
  }
 ],
 "metadata": {
  "kernelspec": {
   "display_name": "F#",
   "language": "fsharp",
   "name": "ifsharp"
  },
  "language": "fsharp",
  "language_info": {
   "codemirror_mode": "",
   "file_extension": ".fs",
   "mimetype": "text/x-fsharp",
   "name": "fsharp",
   "nbconvert_exporter": "",
   "pygments_lexer": "",
   "version": "4.3.1.0"
  }
 },
 "nbformat": 4,
 "nbformat_minor": 2
}
