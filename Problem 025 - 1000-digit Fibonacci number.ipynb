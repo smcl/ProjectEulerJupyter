{
 "cells": [
  {
   "cell_type": "markdown",
   "metadata": {
    "deletable": true,
    "editable": true
   },
   "source": [
    "The Fibonacci sequence is defined by the recurrence relation:\n",
    "\n",
    "    Fn = Fn−1 + Fn−2, where F1 = 1 and F2 = 1.\n",
    "Hence the first 12 terms will be:\n",
    "\n",
    "    F1 = 1\n",
    "    F2 = 1\n",
    "    F3 = 2\n",
    "    F4 = 3\n",
    "    F5 = 5\n",
    "    F6 = 8\n",
    "    F7 = 13\n",
    "    F8 = 21\n",
    "    F9 = 34\n",
    "    F10 = 55\n",
    "    F11 = 89\n",
    "    F12 = 144\n",
    "\n",
    "The 12th term, F12, is the first term to contain three digits.\n",
    "\n",
    "What is the index of the first term in the Fibonacci sequence to contain 1000 digits?"
   ]
  },
  {
   "cell_type": "code",
   "execution_count": 4,
   "metadata": {
    "collapsed": false,
    "deletable": true,
    "editable": true
   },
   "outputs": [
    {
     "data": {
      "text/plain": [
       "4782"
      ]
     },
     "execution_count": 4,
     "metadata": {},
     "output_type": "execute_result"
    }
   ],
   "source": [
    "open System.Numerics\n",
    "\n",
    "let numLen (n:BigInteger) = n.ToString().Length\n",
    "\n",
    "let bigOne = new BigInteger(1)\n",
    "\n",
    "let bigTwo = new BigInteger(2)\n",
    "\n",
    "let rec fibLen1000 index previous current =\n",
    "    if (numLen current) >= 1000 then index\n",
    "    else fibLen1000 (index + bigOne) current (previous + current)\n",
    "    \n",
    "fibLen1000 bigTwo bigOne bigOne"
   ]
  },
  {
   "cell_type": "code",
   "execution_count": null,
   "metadata": {
    "collapsed": true,
    "deletable": true,
    "editable": true
   },
   "outputs": [],
   "source": []
  }
 ],
 "metadata": {
  "kernelspec": {
   "display_name": "F#",
   "language": "fsharp",
   "name": "ifsharp"
  },
  "language": "fsharp",
  "language_info": {
   "codemirror_mode": "",
   "file_extension": ".fs",
   "mimetype": "text/x-fsharp",
   "name": "fsharp",
   "nbconvert_exporter": "",
   "pygments_lexer": "",
   "version": "4.3.1.0"
  }
 },
 "nbformat": 4,
 "nbformat_minor": 2
}
