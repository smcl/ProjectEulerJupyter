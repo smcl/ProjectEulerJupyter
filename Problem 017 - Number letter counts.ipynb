{
 "cells": [
  {
   "cell_type": "markdown",
   "metadata": {
    "deletable": true,
    "editable": true
   },
   "source": [
    "If the numbers 1 to 5 are written out in words: one, two, three, four, five, then there are 3 + 3 + 5 + 4 + 4 = 19 letters used in total.\n",
    "\n",
    "If all the numbers from 1 to 1000 (one thousand) inclusive were written out in words, how many letters would be used?\n",
    "\n",
    "\n",
    "NOTE: Do not count spaces or hyphens. For example, 342 (three hundred and forty-two) contains 23 letters and 115 (one hundred and fifteen) contains 20 letters. The use of \"and\" when writing out numbers is in compliance with British usage."
   ]
  },
  {
   "cell_type": "code",
   "execution_count": 138,
   "metadata": {
    "collapsed": false,
    "deletable": true,
    "editable": true,
    "scrolled": true
   },
   "outputs": [
    {
     "data": {
      "text/plain": [
       "21124"
      ]
     },
     "execution_count": 138,
     "metadata": {},
     "output_type": "execute_result"
    }
   ],
   "source": [
    "let units = [\n",
    "    \"\"\n",
    "    \"one\"\n",
    "    \"two\"\n",
    "    \"three\"\n",
    "    \"four\"\n",
    "    \"five\"\n",
    "    \"six\"\n",
    "    \"seven\"\n",
    "    \"eight\"\n",
    "    \"nine\"\n",
    "]\n",
    "\n",
    "let teens = [\n",
    "    \"ten\"\n",
    "    \"eleven\"\n",
    "    \"twelve\"\n",
    "    \"thirteen\"\n",
    "    \"fourteen\"\n",
    "    \"fifteen\"\n",
    "    \"sixteen\"\n",
    "    \"seventeen\"\n",
    "    \"eighteen\"\n",
    "    \"nineteen\"\n",
    "]\n",
    "\n",
    "let tens = [\n",
    "    \"\"\n",
    "    \"ten\"     // handled in \"teens\" case, probably not needed?\n",
    "    \"twenty\"\n",
    "    \"thirty\"\n",
    "    \"forty\"\n",
    "    \"fifty\"\n",
    "    \"sixty\"\n",
    "    \"seventy\"\n",
    "    \"eighty\"\n",
    "    \"ninety\"\n",
    "]\n",
    "\n",
    "let hundred = \"hundred\"\n",
    "\n",
    "let thousand = \"thousand\"\n",
    "\n",
    "let breakNumberIntoPowerParts n =\n",
    "    let numberByPowerPosition =\n",
    "        n.ToString().ToCharArray() \n",
    "        |> Array.map (fun x -> int(string(x)))\n",
    "        |> Array.rev\n",
    "    \n",
    "    seq {\n",
    "        for i = 0 to numberByPowerPosition.Length - 1 do\n",
    "            yield (i, (numberByPowerPosition.[i]))\n",
    "    }\n",
    "    |> Seq.toList\n",
    "    |> List.rev\n",
    "\n",
    "let simpleStringify pow10 n = \n",
    "    match pow10 with\n",
    "    | 3 -> units.[n] + thousand\n",
    "    | 2 -> if n > 0 then units.[n] + hundred else \"\"\n",
    "    | 1 -> tens.[n]\n",
    "    | 0 -> units.[n]  \n",
    "    | _ -> \"\"\n",
    "    \n",
    "let rec stringifyPowerParts (digitPairs:(int * int) list) =     \n",
    "    if digitPairs.IsEmpty then [] else\n",
    "        let (pow10, n) = List.head digitPairs\n",
    "        if pow10 = 1 && n = 1 then [teens.[snd(List.head(List.tail digitPairs))]; \"\"]\n",
    "        else [(simpleStringify pow10 n)] @ (stringifyPowerParts (List.tail digitPairs))\n",
    "\n",
    "let maybeInsertAnd (numList:string list) =\n",
    "    if numList.Length < 3 then numList // no \"and\" needed, number < 100\n",
    "    else\n",
    "        let revNumList = List.rev numList\n",
    "        let unitAndTen = revNumList.[0..1]\n",
    "        let allTheRest = revNumList.[2..(revNumList.Length-1)]\n",
    "        \n",
    "        if revNumList.[0] <> \"\" || revNumList.[1] <> \"\" then\n",
    "            (unitAndTen @ [\"and\"] @ allTheRest)\n",
    "            |> List.rev\n",
    "        else numList\n",
    "\n",
    "let countEnglishLongForm n =\n",
    "    breakNumberIntoPowerParts n\n",
    "    |> stringifyPowerParts \n",
    "    |> maybeInsertAnd\n",
    "    |> List.filter (fun s -> s <> \"\")\n",
    "    |> String.concat \"\"\n",
    "    |> String.length\n",
    "    \n",
    "[1..1000]\n",
    "|> List.map countEnglishLongForm\n",
    "|> List.sum"
   ]
  },
  {
   "cell_type": "code",
   "execution_count": null,
   "metadata": {
    "collapsed": true,
    "deletable": true,
    "editable": true
   },
   "outputs": [],
   "source": []
  }
 ],
 "metadata": {
  "kernelspec": {
   "display_name": "F#",
   "language": "fsharp",
   "name": "ifsharp"
  },
  "language": "fsharp",
  "language_info": {
   "codemirror_mode": "",
   "file_extension": ".fs",
   "mimetype": "text/x-fsharp",
   "name": "fsharp",
   "nbconvert_exporter": "",
   "pygments_lexer": "",
   "version": "4.3.1.0"
  }
 },
 "nbformat": 4,
 "nbformat_minor": 2
}
