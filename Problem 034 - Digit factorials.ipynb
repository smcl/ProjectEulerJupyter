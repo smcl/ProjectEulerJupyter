{
 "cells": [
  {
   "cell_type": "markdown",
   "metadata": {
    "deletable": true,
    "editable": true
   },
   "source": [
    "145 is a curious number, as 1! + 4! + 5! = 1 + 24 + 120 = 145.\n",
    "\n",
    "Find the sum of all numbers which are equal to the sum of the factorial of their digits.\n",
    "\n",
    "Note: as 1! = 1 and 2! = 2 are not sums they are not included."
   ]
  },
  {
   "cell_type": "code",
   "execution_count": 13,
   "metadata": {
    "collapsed": false,
    "deletable": true,
    "editable": true
   },
   "outputs": [
    {
     "data": {
      "text/plain": [
       "40730"
      ]
     },
     "execution_count": 13,
     "metadata": {},
     "output_type": "execute_result"
    }
   ],
   "source": [
    "open System.Numerics\n",
    "\n",
    "let bigOne = BigInteger(1)\n",
    "let bigTwo = BigInteger(2)\n",
    "\n",
    "let rec factorial n = \n",
    "    if n <= 1 then bigOne\n",
    "    else BigInteger(n) * (factorial (n - 1))\n",
    "    \n",
    "let facs = \n",
    "    [| 0 ..9 |]\n",
    "    |> Array.map (fun n -> factorial(n))\n",
    "    \n",
    "let sumFactorial n =\n",
    "    n.ToString().ToCharArray()\n",
    "    |> Array.map (string >> int)\n",
    "    |> Array.map (fun i -> facs.[i])\n",
    "    |> Array.sum\n",
    "    \n",
    "let equalToSumFactorial n =\n",
    "    let sumFac_n = (sumFactorial n)\n",
    "    n = sumFac_n\n",
    "    \n",
    "seq { 3 .. 10000000 }\n",
    "|> Seq.map (fun i -> BigInteger(i))\n",
    "|> Seq.filter equalToSumFactorial\n",
    "|> Seq.sum"
   ]
  },
  {
   "cell_type": "code",
   "execution_count": null,
   "metadata": {
    "collapsed": true,
    "deletable": true,
    "editable": true
   },
   "outputs": [],
   "source": []
  }
 ],
 "metadata": {
  "kernelspec": {
   "display_name": "F#",
   "language": "fsharp",
   "name": "ifsharp"
  },
  "language": "fsharp",
  "language_info": {
   "codemirror_mode": "",
   "file_extension": ".fs",
   "mimetype": "text/x-fsharp",
   "name": "fsharp",
   "nbconvert_exporter": "",
   "pygments_lexer": "",
   "version": "4.3.1.0"
  }
 },
 "nbformat": 4,
 "nbformat_minor": 2
}
