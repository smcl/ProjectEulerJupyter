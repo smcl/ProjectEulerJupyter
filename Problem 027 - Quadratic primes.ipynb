{
 "cells": [
  {
   "cell_type": "markdown",
   "metadata": {
    "collapsed": false,
    "deletable": true,
    "editable": true
   },
   "source": [
    "Euler discovered the remarkable quadratic formula:\n",
    "\n",
    "    n^2 + n + 41\n",
    "    \n",
    "It turns out that the formula will produce 40 primes for the consecutive integer values 0≤n≤39. However, when `n = 40`, `40^2 + 40 + 41 = 40(40 + 1) + 41` is divisible by 41, and certainly when `n = 41`, `41^2+ 41 + 41` is clearly divisible by 41.\n",
    "\n",
    "The incredible formula n^2−79n+1601 was discovered, which produces 80 primes for the consecutive values 0≤n≤790≤n≤79. The product of the coefficients, −79 and 1601, is −126479.\n",
    "\n",
    "Considering quadratics of the form:\n",
    "\n",
    "    n^2 + an + b, where |a| < 1000 and |b| ≤ 1000\n",
    "\n",
    "where `|n|` is the modulus/absolute value of `n`\n",
    "e.g. \n",
    "    |11|=11 and |−4|=4\n",
    "    \n",
    "Find the product of the coefficients, *a* and *b*, for the quadratic expression that produces the maximum number of primes for consecutive values of *n*, starting with n=0  "
   ]
  },
  {
   "cell_type": "code",
   "execution_count": 24,
   "metadata": {
    "collapsed": false,
    "deletable": true,
    "editable": true
   },
   "outputs": [
    {
     "data": {
      "text/plain": [
       "-59231"
      ]
     },
     "execution_count": 24,
     "metadata": {},
     "output_type": "execute_result"
    }
   ],
   "source": [
    "let primeCalcLimit = 20000000\n",
    "\n",
    "let compositesInRange fromNum toNum =\n",
    "    [|2 .. toNum/fromNum|]\n",
    "    |> Array.map (fun x -> fromNum * x)\n",
    "\n",
    "// start off assuming every number from 0 .. n is prime\n",
    "let isPrime' = Array.init (1+primeCalcLimit) (fun _ -> true)\n",
    "   \n",
    "// simple sieve of eratosthenes - update \"primeness\" of\n",
    "// each number in the isPrime array\n",
    "for x in 2 .. int(sqrt(double(primeCalcLimit))) do \n",
    "    if isPrime'.[x] then             \n",
    "        compositesInRange x primeCalcLimit\n",
    "        |> Array.map (fun i -> isPrime'.[i] <- false)\n",
    "        |> ignore\n",
    "\n",
    "let isPrime x = \n",
    "    if x <= 1 then false\n",
    "    else isPrime'.[x]\n",
    "    \n",
    "let square x = x * x\n",
    "\n",
    "let quadPrime a b n = \n",
    "    (square n) + (a * n) + b\n",
    "    \n",
    "let rec comb n l = \n",
    "    match n, l with\n",
    "    | 0, _ -> [[]]\n",
    "    | _, [] -> []\n",
    "    | k, (x::xs) -> List.map ((@) [x]) (comb (k-1) xs) @ comb k xs\n",
    "\n",
    "let infiniteIntegers = Seq.initInfinite (fun x -> 1+x)\n",
    "\n",
    "let continuousPrimeCounts f = \n",
    "    infiniteIntegers \n",
    "    |> Seq.takeWhile (fun n -> (isPrime (f n)))\n",
    "    |> Seq.length\n",
    "    \n",
    "let maxContPrime (maxLength, maxProduct) (currentProduct, currentFunc) =\n",
    "    let currentLength = continuousPrimeCounts currentFunc\n",
    "    if currentLength > maxLength then (currentLength, currentProduct)\n",
    "    else (maxLength, maxProduct)\n",
    "\n",
    "comb 2 [-1000..1000]\n",
    "|> List.map (fun a -> ((a.[0] * a.[1]), (quadPrime a.[0] a.[1])))\n",
    "|> List.fold (fun maxPair currentPair -> maxContPrime maxPair currentPair) (-1,-1)\n",
    "|> snd"
   ]
  },
  {
   "cell_type": "code",
   "execution_count": null,
   "metadata": {
    "collapsed": true
   },
   "outputs": [],
   "source": []
  }
 ],
 "metadata": {
  "kernelspec": {
   "display_name": "F#",
   "language": "fsharp",
   "name": "ifsharp"
  },
  "language": "fsharp",
  "language_info": {
   "codemirror_mode": "",
   "file_extension": ".fs",
   "mimetype": "text/x-fsharp",
   "name": "fsharp",
   "nbconvert_exporter": "",
   "pygments_lexer": "",
   "version": "4.3.1.0"
  }
 },
 "nbformat": 4,
 "nbformat_minor": 2
}
