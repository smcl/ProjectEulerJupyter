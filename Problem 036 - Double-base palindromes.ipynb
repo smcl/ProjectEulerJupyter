{
 "cells": [
  {
   "cell_type": "markdown",
   "metadata": {},
   "source": [
    "The decimal number, 585 = 10010010012 (binary), is palindromic in both bases.\n",
    "\n",
    "Find the sum of all numbers, less than one million, which are palindromic in base 10 and base 2.\n",
    "\n",
    "(Please note that the palindromic number, in either base, may not include leading zeros.)\n",
    "\n"
   ]
  },
  {
   "cell_type": "code",
   "execution_count": 33,
   "metadata": {
    "collapsed": false
   },
   "outputs": [
    {
     "data": {
      "text/plain": [
       "872187"
      ]
     },
     "execution_count": 33,
     "metadata": {},
     "output_type": "execute_result"
    }
   ],
   "source": [
    "let toBinary (n:int) = \n",
    "    System.Convert.ToString(n, 2)\n",
    "    \n",
    "let strRev (s:string) = new string(Array.rev (s.ToCharArray()))\n",
    "\n",
    "let isPalindrome (s:string) =\n",
    "    s = (strRev s)\n",
    "    \n",
    "let bothBasePalindrome n = \n",
    "    (isPalindrome (string(n))) && (isPalindrome (toBinary n))\n",
    "    \n",
    "[0..1000000]\n",
    "|> List.filter bothBasePalindrome\n",
    "|> List.sum"
   ]
  }
 ],
 "metadata": {
  "kernelspec": {
   "display_name": "F#",
   "language": "fsharp",
   "name": "ifsharp"
  },
  "language": "fsharp",
  "language_info": {
   "codemirror_mode": "",
   "file_extension": ".fs",
   "mimetype": "text/x-fsharp",
   "name": "fsharp",
   "nbconvert_exporter": "",
   "pygments_lexer": "",
   "version": "4.3.1.0"
  }
 },
 "nbformat": 4,
 "nbformat_minor": 2
}
