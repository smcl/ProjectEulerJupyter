{
 "cells": [
  {
   "cell_type": "markdown",
   "metadata": {
    "collapsed": true,
    "deletable": true,
    "editable": true
   },
   "source": [
    "The prime factors of 13195 are 5, 7, 13 and 29.\n",
    "\n",
    "What is the largest prime factor of the number 600851475143 ?"
   ]
  },
  {
   "cell_type": "code",
   "execution_count": 14,
   "metadata": {
    "collapsed": false,
    "deletable": true,
    "editable": true
   },
   "outputs": [
    {
     "data": {
      "text/plain": [
       "6857UL"
      ]
     },
     "execution_count": 14,
     "metadata": {},
     "output_type": "execute_result"
    }
   ],
   "source": [
    "// to find the largest prime factor `N` we'll find all primes up\n",
    "// to sqrt(N), filter out non factors and find the largest\n",
    "\n",
    "let limit = 600851475143UL\n",
    "\n",
    "let primesTo n =\n",
    "    // start off assuming every number from 0 .. n is prime\n",
    "    let isPrime = Array.init (1+n) (fun _ -> true)\n",
    "    \n",
    "    // simple sieve of eratosthenes - updating isPrime\n",
    "    for x in 2 .. n do \n",
    "        if isPrime.[x] then \n",
    "            for y in 2 .. n/x do\n",
    "                isPrime.[x*y] <- false\n",
    "                \n",
    "    // only take numbers from the list which are prime\n",
    "    [2..n]\n",
    "    |> List.filter (fun x -> isPrime.[x])\n",
    "    |> List.map uint64\n",
    "\n",
    "primesTo (int(sqrt(double(limit))))\n",
    "|> List.filter (fun x -> (limit % x = 0UL))\n",
    "|> List.last"
   ]
  },
  {
   "cell_type": "code",
   "execution_count": 1,
   "metadata": {
    "collapsed": false,
    "deletable": true,
    "editable": true
   },
   "outputs": [
    {
     "data": {
      "text/plain": [
       "[4; 6; 8; 10; 12; 14; 16; 18; 20; 22; 24; 26; 28; 30; 32; 34; 36; 38; 40]"
      ]
     },
     "execution_count": 1,
     "metadata": {},
     "output_type": "execute_result"
    }
   ],
   "source": [
    "\n",
    "let compositesTo prime limit =\n",
    "    [2 .. limit/prime]\n",
    "    |> List.map (fun x -> prime * x)\n",
    "    \n",
    "[ 2 .. 40 ]\n",
    "|> \n",
    "compositesTo 2 40"
   ]
  },
  {
   "cell_type": "code",
   "execution_count": null,
   "metadata": {
    "collapsed": true,
    "deletable": true,
    "editable": true
   },
   "outputs": [],
   "source": []
  }
 ],
 "metadata": {
  "kernelspec": {
   "display_name": "F#",
   "language": "fsharp",
   "name": "ifsharp"
  },
  "language": "fsharp",
  "language_info": {
   "codemirror_mode": "",
   "file_extension": ".fs",
   "mimetype": "text/x-fsharp",
   "name": "fsharp",
   "nbconvert_exporter": "",
   "pygments_lexer": "",
   "version": "4.3.1.0"
  }
 },
 "nbformat": 4,
 "nbformat_minor": 2
}
