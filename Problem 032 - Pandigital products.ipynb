{
 "cells": [
  {
   "cell_type": "markdown",
   "metadata": {},
   "source": [
    "We shall say that an n-digit number is pandigital if it makes use of all the digits 1 to n exactly once; for example, the 5-digit number, 15234, is 1 through 5 pandigital.\n",
    "\n",
    "The product 7254 is unusual, as the identity, 39 × 186 = 7254, containing multiplicand, multiplier, and product is 1 through 9 pandigital.\n",
    "\n",
    "Find the sum of all products whose multiplicand/multiplier/product identity can be written as a 1 through 9 pandigital.\n",
    "\n",
    "HINT: Some products can be obtained in more than one way so be sure to only include it once in your sum.\n"
   ]
  },
  {
   "cell_type": "code",
   "execution_count": 1,
   "metadata": {
    "collapsed": false
   },
   "outputs": [
    {
     "data": {
      "text/plain": [
       "45228"
      ]
     },
     "execution_count": 1,
     "metadata": {},
     "output_type": "execute_result"
    }
   ],
   "source": [
    "let target = 987654321\n",
    "let limit = 2000\n",
    "\n",
    "let isPanDigital9 (s:string) = \n",
    "    let sorted = new string (s.ToCharArray() |> Array.sort)\n",
    "    sorted = \"123456789\"\n",
    "    \n",
    "let panDigitalProduct x y = \n",
    "    isPanDigital9 (string(x) + string(y) + string(x * y))\n",
    "    \n",
    "let pairWith n = \n",
    "    [1..limit]\n",
    "    |> List.map (fun n2 -> (n,n2))\n",
    "    \n",
    "[1..limit]\n",
    "|> List.filter (fun x -> (x / 987654321) <= limit)\n",
    "|> List.map pairWith\n",
    "|> List.concat\n",
    "|> List.filter (fun (x,y) -> panDigitalProduct x y)\n",
    "|> List.map (fun (x,y) -> x*y)\n",
    "|> List.distinct\n",
    "|> List.sum\n",
    "    \n",
    "//panDigitalProduct 39 186"
   ]
  },
  {
   "cell_type": "code",
   "execution_count": null,
   "metadata": {
    "collapsed": true
   },
   "outputs": [],
   "source": []
  }
 ],
 "metadata": {
  "kernelspec": {
   "display_name": "F#",
   "language": "fsharp",
   "name": "ifsharp"
  },
  "language": "fsharp",
  "language_info": {
   "codemirror_mode": "",
   "file_extension": ".fs",
   "mimetype": "text/x-fsharp",
   "name": "fsharp",
   "nbconvert_exporter": "",
   "pygments_lexer": "",
   "version": "4.3.1.0"
  }
 },
 "nbformat": 4,
 "nbformat_minor": 2
}
