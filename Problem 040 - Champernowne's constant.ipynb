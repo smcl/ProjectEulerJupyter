{
 "cells": [
  {
   "cell_type": "markdown",
   "metadata": {},
   "source": [
    "An irrational decimal fraction is created by concatenating the positive integers:\n",
    "\n",
    "    0.123456789101112131415161718192021...\n",
    "\n",
    "It can be seen that the 12th digit of the fractional part is 1.\n",
    "\n",
    "If dn represents the nth digit of the fractional part, find the value of the following expression.\n",
    "\n",
    "    d1 × d10 × d100 × d1000 × d10000 × d100000 × d1000000\n"
   ]
  },
  {
   "cell_type": "code",
   "execution_count": 36,
   "metadata": {
    "collapsed": false
   },
   "outputs": [
    {
     "data": {
      "text/plain": [
       "210"
      ]
     },
     "execution_count": 36,
     "metadata": {},
     "output_type": "execute_result"
    }
   ],
   "source": [
    "open System.Text\n",
    "\n",
    "let limit = 1000000\n",
    "\n",
    "let appendChampernowne (sb:StringBuilder) n =\n",
    "    sb.Append (string n) |> ignore\n",
    "    n\n",
    "\n",
    "let rec buildChamp' (sb:StringBuilder) n =\n",
    "    if (sb.Length) > limit then (sb.ToString())\n",
    "    else buildChamp' sb (appendChampernowne sb (1 + n))\n",
    "    \n",
    "let buildChamp n = \n",
    "    buildChamp' (new StringBuilder()) n\n",
    "    \n",
    "let champernowne = (buildChamp 0).ToCharArray()\n",
    "\n",
    "[1; 10; 100; 1000; 10000; 100000; 1000000;]\n",
    "|> List.map (fun i -> champernowne.[i-1])\n",
    "|> List.map (string >> int)\n",
    "|> List.fold (fun acc element -> acc * element) 1"
   ]
  },
  {
   "cell_type": "code",
   "execution_count": null,
   "metadata": {
    "collapsed": true
   },
   "outputs": [],
   "source": []
  }
 ],
 "metadata": {
  "kernelspec": {
   "display_name": "F#",
   "language": "fsharp",
   "name": "ifsharp"
  },
  "language": "fsharp",
  "language_info": {
   "codemirror_mode": "",
   "file_extension": ".fs",
   "mimetype": "text/x-fsharp",
   "name": "fsharp",
   "nbconvert_exporter": "",
   "pygments_lexer": "",
   "version": "4.3.1.0"
  }
 },
 "nbformat": 4,
 "nbformat_minor": 2
}
