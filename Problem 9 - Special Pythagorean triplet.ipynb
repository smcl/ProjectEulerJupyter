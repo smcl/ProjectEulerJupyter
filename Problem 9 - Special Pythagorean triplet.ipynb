{
 "cells": [
  {
   "cell_type": "markdown",
   "metadata": {
    "deletable": true,
    "editable": true
   },
   "source": [
    "A Pythagorean triplet is a set of three natural numbers, a < b < c, for which,\n",
    "\n",
    "    a^2 + b^2 = c^2\n",
    "\n",
    "For example, 3^2 + 4^2 = 9 + 16 = 25 = 5^2.\n",
    "\n",
    "There exists exactly one Pythagorean triplet for which a + b + c = 1000.\n",
    "Find the product abc."
   ]
  },
  {
   "cell_type": "code",
   "execution_count": 49,
   "metadata": {
    "collapsed": false,
    "deletable": true,
    "editable": true
   },
   "outputs": [
    {
     "data": {
      "text/plain": [
       "set [31875000]"
      ]
     },
     "execution_count": 49,
     "metadata": {},
     "output_type": "execute_result"
    }
   ],
   "source": [
    "// if I go with this approach need to heavily use memoisation\n",
    "\n",
    "let flattenTriplets triplet =\n",
    "    snd triplet\n",
    "    |> List.map (fun x -> fst triplet, fst x, snd x)\n",
    "    \n",
    "let tuplesAddingTo n = \n",
    "    [0..n]\n",
    "    |> List.map (fun x -> (x, (n-x)))\n",
    "    \n",
    "let tripletsAddingTo n = \n",
    "    [0..n]\n",
    "    |> List.map (fun x -> (x, (tuplesAddingTo (n-x))))\n",
    "    |> List.map flattenTriplets\n",
    "    |> List.concat\n",
    "    \n",
    "let square x = x*x\n",
    "\n",
    "let isPythagorean (a,b,c) = \n",
    "    (square a) + (square b) = (square c)\n",
    "\n",
    "let sumTriplet (a,b,c) = \n",
    "    a + b + c\n",
    "\n",
    "let productTriplet (a,b,c) =\n",
    "    a * b * c\n",
    "\n",
    "triplesAddingTo 1000\n",
    "|> List.filter isPythagorean\n",
    "|> List.filter (fun x -> 1000 = (sumTriplet x))\n",
    "|> List.map productTriplet\n",
    "|> List.filter (fun x -> x <> 0)"
   ]
  },
  {
   "cell_type": "code",
   "execution_count": 15,
   "metadata": {
    "collapsed": false,
    "deletable": true,
    "editable": true
   },
   "outputs": [
    {
     "name": "stderr",
     "output_type": "stream",
     "text": [
      "/home/jupyter/notebooks/Project Euler/input.fsx(1,1): error FS0003: This value is not a function and cannot be applied"
     ]
    }
   ],
   "source": []
  }
 ],
 "metadata": {
  "kernelspec": {
   "display_name": "F#",
   "language": "fsharp",
   "name": "ifsharp"
  },
  "language": "fsharp",
  "language_info": {
   "codemirror_mode": "",
   "file_extension": ".fs",
   "mimetype": "text/x-fsharp",
   "name": "fsharp",
   "nbconvert_exporter": "",
   "pygments_lexer": "",
   "version": "4.3.1.0"
  }
 },
 "nbformat": 4,
 "nbformat_minor": 2
}
