{
 "cells": [
  {
   "cell_type": "markdown",
   "metadata": {
    "deletable": true,
    "editable": true
   },
   "source": [
    "We shall say that an n-digit number is pandigital if it makes use of all the digits 1 to n exactly once. For example, 2143 is a 4-digit pandigital and is also prime.\n",
    "\n",
    "What is the largest n-digit pandigital prime that exists?"
   ]
  },
  {
   "cell_type": "code",
   "execution_count": 16,
   "metadata": {
    "collapsed": false,
    "deletable": true,
    "editable": true
   },
   "outputs": [
    {
     "data": {
      "text/plain": [
       "7652413"
      ]
     },
     "execution_count": 16,
     "metadata": {},
     "output_type": "execute_result"
    }
   ],
   "source": [
    "let limit = 99999\n",
    "\n",
    "let panOneNine = string(123456789)\n",
    "\n",
    "let isPandigital n = \n",
    "    let n_sorted = new string (string(n).ToCharArray() |> Array.sort)\n",
    "    n_sorted = panOneNine.[0..((n_sorted.Length)-1)]\n",
    "\n",
    "let divisors n = \n",
    "    let div_limit = (1 + (int(sqrt(double(n)))))\n",
    "    [2..div_limit]\n",
    "    |> List.filter (fun x -> n % x = 0)    \n",
    "\n",
    "let isPrimeNaive n = \n",
    "    divisors n\n",
    "    |> List.length = 0\n",
    "\n",
    "seq { 1..123456789 }\n",
    "|> Seq.filter isPandigital\n",
    "|> Seq.filter isPrimeNaive\n",
    "|> Seq.last"
   ]
  },
  {
   "cell_type": "code",
   "execution_count": null,
   "metadata": {
    "collapsed": true
   },
   "outputs": [],
   "source": []
  }
 ],
 "metadata": {
  "kernelspec": {
   "display_name": "F#",
   "language": "fsharp",
   "name": "ifsharp"
  },
  "language": "fsharp",
  "language_info": {
   "codemirror_mode": "",
   "file_extension": ".fs",
   "mimetype": "text/x-fsharp",
   "name": "fsharp",
   "nbconvert_exporter": "",
   "pygments_lexer": "",
   "version": "4.3.1.0"
  }
 },
 "nbformat": 4,
 "nbformat_minor": 2
}
