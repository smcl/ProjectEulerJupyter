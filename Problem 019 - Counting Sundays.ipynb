{
 "cells": [
  {
   "cell_type": "markdown",
   "metadata": {
    "deletable": true,
    "editable": true
   },
   "source": [
    "You are given the following information, but you may prefer to do some research for yourself.\n",
    "\n",
    "* 1 Jan 1900 was a Monday.\n",
    "* Thirty days has September,\n",
    "* April, June and November.\n",
    "*  All the rest have thirty-one,\n",
    "*  Saving February a|lone,\n",
    "*  Which has twenty-eight, rain or shine.\n",
    "*  And on leap years, twenty-nine.\n",
    "* A leap year occurs on any year evenly divisible by 4, but not on a century unless it is divisible by 400.\n",
    "\n",
    "How many Sundays fell on the first of the month during the twentieth century (1 Jan 1901 to 31 Dec 2000)?"
   ]
  },
  {
   "cell_type": "code",
   "execution_count": 13,
   "metadata": {
    "collapsed": false,
    "deletable": true,
    "editable": true
   },
   "outputs": [
    {
     "data": {
      "text/plain": [
       "171"
      ]
     },
     "execution_count": 13,
     "metadata": {},
     "output_type": "execute_result"
    }
   ],
   "source": [
    "let isSunday (d:System.DateTime) = d.DayOfWeek = System.DayOfWeek.Sunday\n",
    "\n",
    "let dateFromPair (year,month) = new System.DateTime(year, month, 1)\n",
    "\n",
    "let pairWith lst x = \n",
    "    lst |> List.map (fun y -> (x,y)) \n",
    "\n",
    "[1901..2000]\n",
    "|> List.map (pairWith [1..12]) \n",
    "|> List.concat\n",
    "|> List.map dateFromPair\n",
    "|> List.filter isSunday\n",
    "|> List.length"
   ]
  },
  {
   "cell_type": "code",
   "execution_count": null,
   "metadata": {
    "collapsed": true,
    "deletable": true,
    "editable": true
   },
   "outputs": [],
   "source": []
  }
 ],
 "metadata": {
  "kernelspec": {
   "display_name": "F#",
   "language": "fsharp",
   "name": "ifsharp"
  },
  "language": "fsharp",
  "language_info": {
   "codemirror_mode": "",
   "file_extension": ".fs",
   "mimetype": "text/x-fsharp",
   "name": "fsharp",
   "nbconvert_exporter": "",
   "pygments_lexer": "",
   "version": "4.3.1.0"
  }
 },
 "nbformat": 4,
 "nbformat_minor": 2
}
