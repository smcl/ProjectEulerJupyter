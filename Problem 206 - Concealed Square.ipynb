{
 "cells": [
  {
   "cell_type": "markdown",
   "metadata": {},
   "source": [
    "Find the unique positive integer whose square has the form `1_2_3_4_5_6_7_8_9_0`,\n",
    "where each “_” is a single digit."
   ]
  },
  {
   "cell_type": "code",
   "execution_count": null,
   "metadata": {
    "collapsed": false
   },
   "outputs": [],
   "source": [
    "open System.Text.RegularExpressions\n",
    "\n",
    "let upperBound = 1389244398I // sqrt(1930000000000000000I)\n",
    "let lowerBound = 1000000000I\n",
    "\n",
    "//let rawPattern = \"1_2_3_4_5_6_7_8_9_0\".Replace(\"_\", \".\").ToString()\n",
    "let pattern = Regex(\"1.2.3.4.5.6.7.8.9.0\")\n",
    "\n",
    "let matches n =\n",
    "    let m = pattern.Match (string(n))\n",
    "    m.Success\n",
    "\n",
    "seq { lowerBound .. upperBound }\n",
    "|> Seq.filter (fun n -> matches (n * n))\n",
    "|> Seq.first"
   ]
  },
  {
   "cell_type": "code",
   "execution_count": null,
   "metadata": {
    "collapsed": true
   },
   "outputs": [],
   "source": []
  }
 ],
 "metadata": {
  "kernelspec": {
   "display_name": "F#",
   "language": "fsharp",
   "name": "ifsharp"
  },
  "language": "fsharp",
  "language_info": {
   "codemirror_mode": "",
   "file_extension": ".fs",
   "mimetype": "text/x-fsharp",
   "name": "fsharp",
   "nbconvert_exporter": "",
   "pygments_lexer": "",
   "version": "4.3.1.0"
  }
 },
 "nbformat": 4,
 "nbformat_minor": 2
}
