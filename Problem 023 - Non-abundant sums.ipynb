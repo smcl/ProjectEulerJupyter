{
 "cells": [
  {
   "cell_type": "markdown",
   "metadata": {
    "deletable": true,
    "editable": true
   },
   "source": [
    "A perfect number is a number for which the sum of its proper divisors is exactly equal to the number. For example, the sum of the proper divisors of 28 would be 1 + 2 + 4 + 7 + 14 = 28, which means that 28 is a perfect number.\n",
    "\n",
    "A number n is called deficient if the sum of its proper divisors is less than n and it is called abundant if this sum exceeds n.\n",
    "\n",
    "As 12 is the smallest abundant number, 1 + 2 + 3 + 4 + 6 = 16, the smallest number that can be written as the sum of two abundant numbers is 24. By mathematical analysis, it can be shown that all integers greater than 28123 can be written as the sum of two abundant numbers. However, this upper limit cannot be reduced any further by analysis even though it is known that the greatest number that cannot be expressed as the sum of two abundant numbers is less than this limit.\n",
    "\n",
    "Find the sum of all the positive integers which cannot be written as the sum of two abundant numbers."
   ]
  },
  {
   "cell_type": "code",
   "execution_count": 75,
   "metadata": {
    "collapsed": false,
    "deletable": true,
    "editable": true
   },
   "outputs": [],
   "source": [
    "open System.Collections.Generic \n",
    "\n",
    "let divisors n = \n",
    "    [1..(n-1)]\n",
    "    |> List.filter (fun x -> n % x = 0)    \n",
    "\n",
    "let memoize f =\n",
    "    let cache = Dictionary<_, _>()\n",
    "    fun x ->\n",
    "        if cache.ContainsKey(x) then cache.[x]\n",
    "        else let res = f x\n",
    "             cache.[x] <- res\n",
    "             res\n",
    "\n",
    "let isAbundant' n = \n",
    "    n < List.sum (divisors n)\n",
    "\n",
    "let isAbundant = memoize isAbundant'\n",
    "\n",
    "let abundantPairMin = 28125\n",
    "\n",
    "let abundantNumbers = \n",
    "    [1..abundantPairMin]\n",
    "    |> List.filter isAbundant\n",
    "    \n",
    "let cannotExpressAsSumPairAbundant n =\n",
    "    abundantNumbers\n",
    "    |> List.filter (fun a -> a <= n)\n",
    "    |> List.filter (fun a -> isAbundant (n-a))\n",
    "    |> List.length = 0"
   ]
  },
  {
   "cell_type": "code",
   "execution_count": 77,
   "metadata": {
    "collapsed": false,
    "deletable": true,
    "editable": true,
    "scrolled": true
   },
   "outputs": [
    {
     "data": {
      "text/plain": [
       "1.621800 ms\n",
       "0.374800 ms\n",
       "0.429500 ms\n",
       "0.606300 ms\n",
       "0.752400 ms\n"
      ]
     },
     "metadata": {},
     "output_type": "display_data"
    },
    {
     "data": {
      "text/plain": [
       "4179871"
      ]
     },
     "execution_count": 77,
     "metadata": {},
     "output_type": "execute_result"
    }
   ],
   "source": [
    "open System.Diagnostics\n",
    "\n",
    "let bench f n =\n",
    "    let sw = Stopwatch.StartNew()\n",
    "    let res = f n\n",
    "    sw.Stop()\n",
    "    printfn \"%f ms\" sw.Elapsed.TotalMilliseconds\n",
    "    res\n",
    "\n",
    "bench cannotExpressAsSumPairAbundant 10\n",
    "bench cannotExpressAsSumPairAbundant 100\n",
    "bench cannotExpressAsSumPairAbundant 1000\n",
    "bench cannotExpressAsSumPairAbundant 10000\n",
    "bench cannotExpressAsSumPairAbundant 20000\n",
    "\n",
    "\n",
    "[1..abundantPairMin]\n",
    "|> List.filter cannotExpressAsSumPairAbundant\n",
    "|> List.sum"
   ]
  },
  {
   "cell_type": "code",
   "execution_count": null,
   "metadata": {
    "collapsed": true
   },
   "outputs": [],
   "source": []
  }
 ],
 "metadata": {
  "kernelspec": {
   "display_name": "F#",
   "language": "fsharp",
   "name": "ifsharp"
  },
  "language": "fsharp",
  "language_info": {
   "codemirror_mode": "",
   "file_extension": ".fs",
   "mimetype": "text/x-fsharp",
   "name": "fsharp",
   "nbconvert_exporter": "",
   "pygments_lexer": "",
   "version": "4.3.1.0"
  }
 },
 "nbformat": 4,
 "nbformat_minor": 2
}
