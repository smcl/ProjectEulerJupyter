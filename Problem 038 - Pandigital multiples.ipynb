{
 "cells": [
  {
   "cell_type": "markdown",
   "metadata": {},
   "source": [
    "Take the number 192 and multiply it by each of 1, 2, and 3:\n",
    "\n",
    "    192 × 1 = 192\n",
    "    192 × 2 = 384\n",
    "    192 × 3 = 576\n",
    "    \n",
    "By concatenating each product we get the 1 to 9 pandigital, 192384576. We will call 192384576 the concatenated product of 192 and (1,2,3)\n",
    "\n",
    "The same can be achieved by starting with 9 and multiplying by 1, 2, 3, 4, and 5, giving the pandigital, 918273645, which is the concatenated product of 9 and (1,2,3,4,5).\n",
    "\n",
    "What is the largest 1 to 9 pandigital 9-digit number that can be formed as the concatenated product of an integer with (1,2, ... , n) where n > 1?"
   ]
  },
  {
   "cell_type": "code",
   "execution_count": 7,
   "metadata": {
    "collapsed": false
   },
   "outputs": [
    {
     "data": {
      "text/plain": [
       "932718654"
      ]
     },
     "execution_count": 7,
     "metadata": {},
     "output_type": "execute_result"
    }
   ],
   "source": [
    "\n",
    "let panOneNine = string(123456789)\n",
    "\n",
    "let isOneNinePandigital n =     \n",
    "    let n_sorted = new string (string(n).ToCharArray() |> Array.sort)\n",
    "    if n_sorted.Length > 9 then false\n",
    "    else n_sorted = panOneNine\n",
    "    \n",
    "let isPandigitalConcatProduct (x,n) = \n",
    "    let number = \n",
    "        [1..n]\n",
    "        |> List.map (fun i -> string(x * i))\n",
    "        |> String.concat \"\"\n",
    "        \n",
    "    if (isOneNinePandigital number) then int(number) \n",
    "    else 0\n",
    "   \n",
    "let pairWith lst x = \n",
    "    lst |> List.map (fun element -> (x,element))\n",
    "    \n",
    "[1..10000]\n",
    "|> List.map (pairWith [1..50])\n",
    "|> List.concat\n",
    "|> List.map isPandigitalConcatProduct\n",
    "|> List.filter (fun x -> x <> 0)\n",
    "|> List.sortDescending\n",
    "|> List.head"
   ]
  }
 ],
 "metadata": {
  "kernelspec": {
   "display_name": "F#",
   "language": "fsharp",
   "name": "ifsharp"
  },
  "language": "fsharp",
  "language_info": {
   "codemirror_mode": "",
   "file_extension": ".fs",
   "mimetype": "text/x-fsharp",
   "name": "fsharp",
   "nbconvert_exporter": "",
   "pygments_lexer": "",
   "version": "4.3.1.0"
  }
 },
 "nbformat": 4,
 "nbformat_minor": 2
}
