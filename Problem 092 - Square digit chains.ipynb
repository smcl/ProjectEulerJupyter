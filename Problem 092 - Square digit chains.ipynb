{
 "cells": [
  {
   "cell_type": "markdown",
   "metadata": {},
   "source": [
    "A number chain is created by continuously adding the square of the digits in a number to form a new number until it has been seen before.\n",
    "\n",
    "For example,\n",
    "\n",
    "    44 → 32 → 13 → 10 → 1 → 1\n",
    "\n",
    "    85 → 89 → 145 → 42 → 20 → 4 → 16 → 37 → 58 → 89\n",
    "\n",
    "Therefore any chain that arrives at 1 or 89 will become stuck in an endless loop. What is most amazing is that EVERY starting number will eventually arrive at 1 or 89.\n",
    "\n",
    "How many starting numbers below ten million will arrive at 89?"
   ]
  },
  {
   "cell_type": "code",
   "execution_count": 19,
   "metadata": {
    "collapsed": false
   },
   "outputs": [
    {
     "data": {
      "text/plain": [
       "8581146"
      ]
     },
     "execution_count": 19,
     "metadata": {},
     "output_type": "execute_result"
    }
   ],
   "source": [
    "// this is awfully slow and inefficient - we should maybe keep an\n",
    "// 89 or 1 cache for numbers (say) under 1000 so we don't have to \n",
    "// keep recalc'ing them\n",
    "\n",
    "let squareDigit n = \n",
    "    n * n\n",
    "    \n",
    "let squareDigits n =\n",
    "    string(n).ToCharArray() \n",
    "    |> Array.map (string >> int >> squareDigit)\n",
    "    |> Array.sum\n",
    "    \n",
    "let rec chain n = \n",
    "    if n = 89 || n = 1 then Some(n)\n",
    "    else chain (squareDigits n)\n",
    "    \n",
    "let arrives89 n =\n",
    "    match n with\n",
    "    | Some 89 -> true\n",
    "    | _ -> false\n",
    "    \n",
    "seq { 1 .. 10000000 }\n",
    "|> Seq.map chain\n",
    "|> Seq.filter arrives89\n",
    "|> Seq.length"
   ]
  },
  {
   "cell_type": "code",
   "execution_count": null,
   "metadata": {
    "collapsed": true
   },
   "outputs": [],
   "source": []
  }
 ],
 "metadata": {
  "kernelspec": {
   "display_name": "F#",
   "language": "fsharp",
   "name": "ifsharp"
  },
  "language": "fsharp",
  "language_info": {
   "codemirror_mode": "",
   "file_extension": ".fs",
   "mimetype": "text/x-fsharp",
   "name": "fsharp",
   "nbconvert_exporter": "",
   "pygments_lexer": "",
   "version": "4.3.1.0"
  }
 },
 "nbformat": 4,
 "nbformat_minor": 2
}
