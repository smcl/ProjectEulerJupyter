{
 "cells": [
  {
   "cell_type": "markdown",
   "metadata": {},
   "source": [
    "The number, 197, is called a circular prime because all rotations of the digits: 197, 971, and 719, are themselves prime.\n",
    "\n",
    "There are thirteen such primes below 100: 2, 3, 5, 7, 11, 13, 17, 31, 37, 71, 73, 79, and 97.\n",
    "\n",
    "How many circular primes are there below one million?\n",
    "\n"
   ]
  },
  {
   "cell_type": "code",
   "execution_count": 63,
   "metadata": {
    "collapsed": false
   },
   "outputs": [
    {
     "data": {
      "text/plain": [
       "55"
      ]
     },
     "execution_count": 63,
     "metadata": {},
     "output_type": "execute_result"
    }
   ],
   "source": [
    "let limit = 1000000\n",
    "\n",
    "let compositesInRange fromNum toNum =\n",
    "    [|2 .. toNum/fromNum|]\n",
    "    |> Array.map (fun x -> fromNum * x)\n",
    "    \n",
    "let primesTo n =\n",
    "    // start off assuming every number from 0 .. n is prime\n",
    "    let isPrime = Array.init (1+n) (fun _ -> true)\n",
    "    \n",
    "    // simple sieve of eratosthenes - update \"primeness\" of\n",
    "    // each number in the isPrime array\n",
    "    for x in 2 .. int(sqrt(double(n))) do \n",
    "        if isPrime.[x] then             \n",
    "            compositesInRange x n\n",
    "            |> Array.map (fun i -> isPrime.[i] <- false)\n",
    "            |> ignore                \n",
    "    isPrime\n",
    "    \n",
    "let prime = primesTo limit\n",
    "\n",
    "let rec rotate (n_list:string list) r =\n",
    "    if r = 0 then []\n",
    "    else\n",
    "        let new_n_list = (List.tail n_list) @ [(List.head n_list)] \n",
    "       \n",
    "        let new_n = \n",
    "            new_n_list\n",
    "            |> String.concat \"\"\n",
    "            |> int\n",
    "    \n",
    "        [ new_n_list ] @ (rotate new_n_list (r-1))\n",
    "    \n",
    "\n",
    "let rotations n = \n",
    "    let n_list = string(n).ToCharArray() |> Array.toList |> List.map string\n",
    "    [ n_list ] @ (rotate n_list (n_list.Length - 1))\n",
    "    \n",
    "    \n",
    "let allRotationsPrime n =\n",
    "    rotations n \n",
    "    |> List.map (String.concat \"\")\n",
    "    |> List.map int\n",
    "    |> List.map (fun i -> prime.[i])\n",
    "    |> List.fold (fun acc elem -> acc && elem) true\n",
    "    \n",
    "\n",
    "[2..limit]\n",
    "|> List.filter (fun i -> prime.[i])\n",
    "|> List.filter (fun n -> allRotationsPrime n)\n",
    "|> List.length"
   ]
  },
  {
   "cell_type": "code",
   "execution_count": null,
   "metadata": {
    "collapsed": true
   },
   "outputs": [],
   "source": []
  }
 ],
 "metadata": {
  "kernelspec": {
   "display_name": "F#",
   "language": "fsharp",
   "name": "ifsharp"
  },
  "language": "fsharp",
  "language_info": {
   "codemirror_mode": "",
   "file_extension": ".fs",
   "mimetype": "text/x-fsharp",
   "name": "fsharp",
   "nbconvert_exporter": "",
   "pygments_lexer": "",
   "version": "4.3.1.0"
  }
 },
 "nbformat": 4,
 "nbformat_minor": 2
}
