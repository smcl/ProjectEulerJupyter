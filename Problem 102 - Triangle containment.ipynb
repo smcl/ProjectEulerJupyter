{
 "cells": [
  {
   "cell_type": "markdown",
   "metadata": {},
   "source": [
    "Three distinct points are plotted at random on a Cartesian plane, for which -1000 ≤ x, y ≤ 1000, such that a triangle is formed.\n",
    "\n",
    "Consider the following two triangles:\n",
    "\n",
    "    A(-340,495), B(-153,-910), C(835,-947)\n",
    "\n",
    "    X(-175,41), Y(-421,-714), Z(574,-645)\n",
    "\n",
    "It can be verified that triangle ABC contains the origin, whereas triangle XYZ does not.\n",
    "\n",
    "Using triangles.txt (right click and 'Save Link/Target As...'), a 27K text file containing the co-ordinates of one thousand \"random\" triangles, find the number of triangles for which the interior contains the origin.\n",
    "\n",
    "NOTE: The first two examples in the file represent the triangles in the example given above.\n",
    "\n",
    "\n"
   ]
  },
  {
   "cell_type": "code",
   "execution_count": 15,
   "metadata": {
    "collapsed": false
   },
   "outputs": [
    {
     "data": {
      "text/plain": [
       "228"
      ]
     },
     "execution_count": 15,
     "metadata": {},
     "output_type": "execute_result"
    }
   ],
   "source": [
    "open System.IO\n",
    "\n",
    "let readLines (filePath:string) = seq {\n",
    "    use sr = new StreamReader (filePath)\n",
    "    while not sr.EndOfStream do\n",
    "        yield sr.ReadLine ()\n",
    "}\n",
    "\n",
    "let rawTriangles =\n",
    "    readLines \"resources/p102_triangles.txt\"\n",
    "    |> Seq.map (fun s -> s.Replace(\"\\\"\",\"\"))\n",
    "    |> Seq.map (fun s -> s.Split([|','|]))\n",
    "      \n",
    "    \n",
    "let sign (x1,y1) (x2,y2) (x3,y3) =\n",
    "    ((x1-x3) * (y2-y3)) - ((x2-x3) * (y1-y3))\n",
    "    \n",
    "let containsOrigin v1 v2 v3 =\n",
    "    let b1 = (sign (0,0) v1 v2) < 0\n",
    "    let b2 = (sign (0,0) v2 v3) < 0\n",
    "    let b3 = (sign (0,0) v3 v1) < 0   \n",
    "    (b1 = b2) && (b2 = b3)\n",
    "\n",
    "let processRawTriangle rawTriangle = \n",
    "    let vertices = rawTriangle |> Array.map int\n",
    "    let v1 = (vertices.[0], vertices.[1])\n",
    "    let v2 = (vertices.[2], vertices.[3])\n",
    "    let v3 = (vertices.[4], vertices.[5])\n",
    "    containsOrigin v1 v2 v3    \n",
    "\n",
    "rawTriangles\n",
    "|> Seq.filter processRawTriangle\n",
    "|> Seq.length"
   ]
  },
  {
   "cell_type": "code",
   "execution_count": null,
   "metadata": {
    "collapsed": true
   },
   "outputs": [],
   "source": []
  }
 ],
 "metadata": {
  "kernelspec": {
   "display_name": "F#",
   "language": "fsharp",
   "name": "ifsharp"
  },
  "language": "fsharp",
  "language_info": {
   "codemirror_mode": "",
   "file_extension": ".fs",
   "mimetype": "text/x-fsharp",
   "name": "fsharp",
   "nbconvert_exporter": "",
   "pygments_lexer": "",
   "version": "4.3.1.0"
  }
 },
 "nbformat": 4,
 "nbformat_minor": 2
}
