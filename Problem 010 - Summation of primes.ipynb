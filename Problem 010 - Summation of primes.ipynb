{
 "cells": [
  {
   "cell_type": "markdown",
   "metadata": {
    "deletable": true,
    "editable": true
   },
   "source": [
    "The sum of the primes below 10 is 2 + 3 + 5 + 7 = 17.\n",
    "\n",
    "Find the sum of all the primes below two million."
   ]
  },
  {
   "cell_type": "code",
   "execution_count": 12,
   "metadata": {
    "collapsed": false,
    "deletable": true,
    "editable": true
   },
   "outputs": [
    {
     "data": {
      "text/plain": [
       "142913828922UL"
      ]
     },
     "execution_count": 12,
     "metadata": {},
     "output_type": "execute_result"
    }
   ],
   "source": [
    "let compositesInRange fromNum toNum =\n",
    "    [|2 .. toNum/fromNum|]\n",
    "    |> Array.map (fun x -> fromNum * x)\n",
    "    \n",
    "let primesTo n =\n",
    "    // start off assuming every number from 0 .. n is prime\n",
    "    let isPrime = Array.init (1+n) (fun _ -> true)\n",
    "    \n",
    "    // simple sieve of eratosthenes - update \"primeness\" of\n",
    "    // each number in the isPrime array\n",
    "    for x in 2 .. int(sqrt(double(n))) do \n",
    "        if isPrime.[x] then             \n",
    "            compositesInRange x n\n",
    "            |> Array.map (fun i -> isPrime.[i] <- false)\n",
    "            |> ignore\n",
    "                \n",
    "    // now return numbers which are \"true\" in isPrime array\n",
    "    [|2..n|]\n",
    "    |> Array.filter (fun x -> isPrime.[x])\n",
    "    |> Array.map uint64\n",
    "    \n",
    "// pick a big number, hopefully we have enough primes!!\n",
    "primesTo 2000000\n",
    "|> Array.sum"
   ]
  },
  {
   "cell_type": "code",
   "execution_count": null,
   "metadata": {
    "collapsed": true,
    "deletable": true,
    "editable": true
   },
   "outputs": [],
   "source": []
  }
 ],
 "metadata": {
  "kernelspec": {
   "display_name": "F#",
   "language": "fsharp",
   "name": "ifsharp"
  },
  "language": "fsharp",
  "language_info": {
   "codemirror_mode": "",
   "file_extension": ".fs",
   "mimetype": "text/x-fsharp",
   "name": "fsharp",
   "nbconvert_exporter": "",
   "pygments_lexer": "",
   "version": "4.3.1.0"
  }
 },
 "nbformat": 4,
 "nbformat_minor": 2
}
