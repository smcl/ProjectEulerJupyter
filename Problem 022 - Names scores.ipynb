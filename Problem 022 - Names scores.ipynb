{
 "cells": [
  {
   "cell_type": "markdown",
   "metadata": {},
   "source": [
    "Using `names.txt`, a 46K text file containing over five-thousand first names, begin by sorting it into alphabetical order. Then working out the alphabetical value for each name, multiply this value by its alphabetical position in the list to obtain a name score.\n",
    "\n",
    "For example, when the list is sorted into alphabetical order, COLIN, which is worth 3 + 15 + 12 + 9 + 14 = 53, is the 938th name in the list. So, COLIN would obtain a score of 938 × 53 = 49714.\n",
    "\n",
    "What is the total of all the name scores in the file?\n",
    "\n"
   ]
  },
  {
   "cell_type": "code",
   "execution_count": 51,
   "metadata": {
    "collapsed": false
   },
   "outputs": [
    {
     "data": {
      "text/plain": [
       "871198282"
      ]
     },
     "execution_count": 51,
     "metadata": {},
     "output_type": "execute_result"
    }
   ],
   "source": [
    "open System.IO\n",
    "\n",
    "let readLines (filePath:string) = seq {\n",
    "    use sr = new StreamReader (filePath)\n",
    "    while not sr.EndOfStream do\n",
    "        yield sr.ReadLine ()\n",
    "}\n",
    "\n",
    "let rec sortNames (names:string list) =    \n",
    "    if names.Length < 2 then names\n",
    "    else\n",
    "        let pivot = List.head names\n",
    "        let left = List.filter (fun name -> System.String.Compare(name, pivot, true) <= 0) names.Tail\n",
    "        let right = List.filter (fun name -> System.String.Compare(name, pivot, true) > 0) names.Tail        \n",
    "        (sortNames left) @ [pivot] @ (sortNames right)\n",
    "\n",
    "let charScore c = int(c) - int('A') + 1\n",
    "\n",
    "let scoreName (name:string) =\n",
    "    name.ToCharArray()\n",
    "    |> Array.map charScore\n",
    "    |> Array.sum\n",
    "\n",
    "let sortedNames =\n",
    "    readLines \"resources/p022_names.txt\"\n",
    "    |> Seq.map (fun s -> s.Replace(\"\\\"\",\"\"))\n",
    "    |> Seq.map (fun s -> s.Split([|','|]))\n",
    "    |> Seq.map Array.toList\n",
    "    |> Seq.toList\n",
    "    |> List.concat\n",
    "    |> sortNames\n",
    "    |> List.toArray\n",
    "\n",
    "[0..(sortedNames.Length-1)]\n",
    "|> List.map (fun i -> ((1+i) * (scoreName sortedNames.[i])))\n",
    "|> List.sum"
   ]
  }
 ],
 "metadata": {
  "kernelspec": {
   "display_name": "F#",
   "language": "fsharp",
   "name": "ifsharp"
  },
  "language": "fsharp",
  "language_info": {
   "codemirror_mode": "",
   "file_extension": ".fs",
   "mimetype": "text/x-fsharp",
   "name": "fsharp",
   "nbconvert_exporter": "",
   "pygments_lexer": "",
   "version": "4.3.1.0"
  }
 },
 "nbformat": 4,
 "nbformat_minor": 2
}
