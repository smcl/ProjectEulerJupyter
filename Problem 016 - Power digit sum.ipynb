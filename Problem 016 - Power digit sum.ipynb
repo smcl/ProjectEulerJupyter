{
 "cells": [
  {
   "cell_type": "markdown",
   "metadata": {
    "deletable": true,
    "editable": true
   },
   "source": [
    "2^15 = 32768 and the sum of its digits is 3 + 2 + 7 + 6 + 8 = 26.\n",
    "\n",
    "What is the sum of the digits of the number 2^1000?"
   ]
  },
  {
   "cell_type": "code",
   "execution_count": 34,
   "metadata": {
    "collapsed": false,
    "deletable": true,
    "editable": true
   },
   "outputs": [
    {
     "data": {
      "text/plain": [
       "1366"
      ]
     },
     "execution_count": 34,
     "metadata": {},
     "output_type": "execute_result"
    }
   ],
   "source": [
    "open System.Numerics\n",
    "\n",
    "let rec pow x n = \n",
    "    match n with\n",
    "    | 0 -> 1 \n",
    "    | _ -> x * (pow x (n-1))\n",
    "\n",
    "let bigOne = BigInteger(1)\n",
    "\n",
    "let rec pow' x n = \n",
    "    if n = 0 then bigOne\n",
    "    else x * (pow' x (n-1))\n",
    "\n",
    "let twoToTheOneThousand = pow' (new BigInteger(2)) 1000\n",
    "\n",
    "twoToTheOneThousand.ToString().ToCharArray()\n",
    "|> Array.map string\n",
    "|> Array.map int\n",
    "|> Array.sum\n"
   ]
  },
  {
   "cell_type": "code",
   "execution_count": null,
   "metadata": {
    "collapsed": true,
    "deletable": true,
    "editable": true
   },
   "outputs": [],
   "source": []
  }
 ],
 "metadata": {
  "kernelspec": {
   "display_name": "F#",
   "language": "fsharp",
   "name": "ifsharp"
  },
  "language": "fsharp",
  "language_info": {
   "codemirror_mode": "",
   "file_extension": ".fs",
   "mimetype": "text/x-fsharp",
   "name": "fsharp",
   "nbconvert_exporter": "",
   "pygments_lexer": "",
   "version": "4.3.1.0"
  }
 },
 "nbformat": 4,
 "nbformat_minor": 2
}
