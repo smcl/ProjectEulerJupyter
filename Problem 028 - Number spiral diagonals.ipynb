{
 "cells": [
  {
   "cell_type": "markdown",
   "metadata": {},
   "source": [
    "Starting with the number 1 and moving to the right in a clockwise direction a 5 by 5 spiral is formed as follows:\n",
    "\n",
    "    21 22 23 24 25\n",
    "    20  7  8  9 10\n",
    "    19  6  1  2 11\n",
    "    18  5  4  3 12\n",
    "    17 16 15 14 13\n",
    "\n",
    "It can be verified that the sum of the numbers on the diagonals is 101.\n",
    "\n",
    "What is the sum of the numbers on the diagonals in a 1001 by 1001 spiral formed in the same way?\n",
    "\n"
   ]
  },
  {
   "cell_type": "code",
   "execution_count": 33,
   "metadata": {
    "collapsed": false
   },
   "outputs": [
    {
     "data": {
      "text/plain": [
       "[3; 5; 7; 9; 13; 17; 21; 25; 31; 37]"
      ]
     },
     "execution_count": 33,
     "metadata": {},
     "output_type": "execute_result"
    }
   ],
   "source": [
    "//let limit = 1001 * 1001\n",
    "let limit = 6 * 6\n",
    "\n",
    "let rec spiralNumbersTo1001 skip index n =\n",
    "    if index >= limit then [index]\n",
    "    else\n",
    "        if n <= 1 then [index] @ (spiralNumbersTo1001 (2+skip) (2+skip+index) 4)\n",
    "        else [index] @ (spiralNumbersTo1001 skip (skip+index) (n-1))\n",
    "\n",
    "let plus1 n = n + 1\n",
    "\n",
    "spiralNumbersTo1001 2 3 4\n",
    "//|> List.sum\n",
    "//|> plus1"
   ]
  },
  {
   "cell_type": "code",
   "execution_count": null,
   "metadata": {
    "collapsed": true
   },
   "outputs": [],
   "source": []
  }
 ],
 "metadata": {
  "kernelspec": {
   "display_name": "F#",
   "language": "fsharp",
   "name": "ifsharp"
  },
  "language": "fsharp",
  "language_info": {
   "codemirror_mode": "",
   "file_extension": ".fs",
   "mimetype": "text/x-fsharp",
   "name": "fsharp",
   "nbconvert_exporter": "",
   "pygments_lexer": "",
   "version": "4.3.1.0"
  }
 },
 "nbformat": 4,
 "nbformat_minor": 2
}
