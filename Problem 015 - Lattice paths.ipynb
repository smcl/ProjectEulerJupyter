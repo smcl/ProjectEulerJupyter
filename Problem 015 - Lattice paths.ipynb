{
 "cells": [
  {
   "cell_type": "markdown",
   "metadata": {
    "deletable": true,
    "editable": true
   },
   "source": [
    "Starting in the top left corner of a 2×2 grid, and only being able to move to the right and down, there are exactly 6 routes to the bottom right corner.\n",
    "\n",
    "\n",
    "![caption](files/resources/p015.gif)\n",
    "\n",
    "\n",
    "How many such routes are there through a 20×20 grid?"
   ]
  },
  {
   "cell_type": "code",
   "execution_count": 5,
   "metadata": {
    "collapsed": false,
    "deletable": true,
    "editable": true
   },
   "outputs": [
    {
     "data": {
      "text/plain": [
       "20UL"
      ]
     },
     "execution_count": 5,
     "metadata": {},
     "output_type": "execute_result"
    }
   ],
   "source": [
    "let createNewRow lst = [ 1UL ] @ lst @ [ 1UL ]\n",
    "\n",
    "let rec contracting (row:uint64[]) =\n",
    "    if row.Length = 1 then row.[0]\n",
    "    else\n",
    "        [0..(row.Length-2)]\n",
    "        |> List.map (fun i -> row.[i] + row.[i+1])\n",
    "        |> List.toArray\n",
    "        |> contracting \n",
    "        \n",
    "        \n",
    "let rec expanding max (row:uint64[]) = \n",
    "    if row.Length > max then contracting row\n",
    "    else\n",
    "        [0..(row.Length-2)]\n",
    "        |> List.map (fun i -> row.[i] + row.[i+1])\n",
    "        |> createNewRow\n",
    "        |> List.toArray\n",
    "        |> expanding max\n",
    "        \n",
    "expanding 3 [| |] \n"
   ]
  },
  {
   "cell_type": "code",
   "execution_count": null,
   "metadata": {
    "collapsed": true,
    "deletable": true,
    "editable": true
   },
   "outputs": [],
   "source": [
    "        "
   ]
  }
 ],
 "metadata": {
  "kernelspec": {
   "display_name": "F#",
   "language": "fsharp",
   "name": "ifsharp"
  },
  "language": "fsharp",
  "language_info": {
   "codemirror_mode": "",
   "file_extension": ".fs",
   "mimetype": "text/x-fsharp",
   "name": "fsharp",
   "nbconvert_exporter": "",
   "pygments_lexer": "",
   "version": "4.3.1.0"
  }
 },
 "nbformat": 4,
 "nbformat_minor": 2
}
