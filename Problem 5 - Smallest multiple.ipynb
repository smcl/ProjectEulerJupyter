{
 "cells": [
  {
   "cell_type": "markdown",
   "metadata": {
    "deletable": true,
    "editable": true
   },
   "source": [
    "2520 is the smallest number that can be divided by each of the numbers from 1 to 10 without any remainder.\n",
    "\n",
    "What is the smallest positive number that is evenly divisible by all of the numbers from 1 to 20?"
   ]
  },
  {
   "cell_type": "code",
   "execution_count": 13,
   "metadata": {
    "collapsed": false,
    "deletable": true,
    "editable": true
   },
   "outputs": [
    {
     "data": {
      "text/plain": [
       "232792560"
      ]
     },
     "execution_count": 13,
     "metadata": {},
     "output_type": "execute_result"
    }
   ],
   "source": [
    "// This is a fucking horrible solution\n",
    "//\n",
    "// optimisations needed:\n",
    "// 1. in \"divisibleByAll\" bail out early if we find a non-divisor, instead of \n",
    "//    finding them all and folding the results\n",
    "// 2. when calculating numberBeforeSmallestDivisor don't use takeWhile - we're \n",
    "//    just building a huge sequence only to discard all of them (and munching\\\n",
    "//    through a load of memory in the process). A loop or recursive func would \n",
    "//    be better here.\n",
    "\n",
    "let limit = 20\n",
    "\n",
    "let isDivisible num den = num % den = 0\n",
    "\n",
    "let hasFactors x ys = \n",
    "    Seq.fold (fun acc y -> (isDivisible y x) || acc) false ys\n",
    "\n",
    "// first cut down the list of numbers to test (2 divides 4 so no need to check 2 if we check 4, etc)\n",
    "let targetNumbers = \n",
    "    [ 2 .. limit ]\n",
    "    |> List.where (fun x -> not (hasFactors x [ (1+x) .. limit ]))\n",
    "    \n",
    "// next create a nice infinite sequence of +ve ints\n",
    "let positiveIntegers = \n",
    "    Seq.initInfinite (fun idx -> 1+idx)\n",
    "\n",
    "// the function we'll apply to each integer\n",
    "let divisibleByAll x = \n",
    "    targetNumbers\n",
    "    |> List.map (fun a -> isDivisible x a)\n",
    "    |> List.fold (fun allTrue (a) -> allTrue && a) true \n",
    "    \n",
    "// next spin through integers, checking if they're factors of our list of integers\n",
    "let numberBeforeSmallestDivisor = \n",
    "    Seq.takeWhile (fun x -> not (divisibleByAll x)) positiveIntegers\n",
    "    |> Seq.last\n",
    "    \n",
    "numberBeforeSmallestDivisor + 1"
   ]
  },
  {
   "cell_type": "code",
   "execution_count": null,
   "metadata": {
    "collapsed": true
   },
   "outputs": [],
   "source": []
  }
 ],
 "metadata": {
  "kernelspec": {
   "display_name": "F#",
   "language": "fsharp",
   "name": "ifsharp"
  },
  "language": "fsharp",
  "language_info": {
   "codemirror_mode": "",
   "file_extension": ".fs",
   "mimetype": "text/x-fsharp",
   "name": "fsharp",
   "nbconvert_exporter": "",
   "pygments_lexer": "",
   "version": "4.3.1.0"
  }
 },
 "nbformat": 4,
 "nbformat_minor": 2
}
