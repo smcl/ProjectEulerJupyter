{
 "cells": [
  {
   "cell_type": "markdown",
   "metadata": {},
   "source": [
    "By starting at the top of the triangle below and moving to adjacent numbers on the row below, the maximum total from top to bottom is 23.\n",
    "\n",
    "       3\n",
    "      7 4\n",
    "     2 4 6\n",
    "    8 5 9 3\n",
    "\n",
    "That is, 3 + 7 + 4 + 9 = 23.\n",
    "\n",
    "Find the maximum total from top to bottom of the triangle below:\n",
    "\n",
    "                              75\n",
    "                            95 64\n",
    "                           17 47 82\n",
    "                         18 35 87 10\n",
    "                       20 04 82 47 65\n",
    "                     19 01 23 75 03 34\n",
    "                   88 02 77 73 07 63 67\n",
    "                 99 65 04 28 06 16 70 92\n",
    "               41 41 26 56 83 40 80 70 33\n",
    "             41 48 72 33 47 32 37 16 94 29\n",
    "           53 71 44 65 25 43 91 52 97 51 14\n",
    "         70 11 33 28 77 73 17 78 39 68 17 57\n",
    "       91 71 52 38 17 14 91 43 58 50 27 29 48\n",
    "      63 66 04 68 89 53 67 30 73 16 69 87 40 31\n",
    "    04 62 98 27 23 09 70 98 73 93 38 53 60 04 23\n",
    "\n",
    "NOTE: As there are only 16384 routes, it is possible to solve this problem by trying every route. However, Problem 67, is the same challenge with a triangle containing one-hundred rows; it cannot be solved by brute force, and requires a clever method! ;o)\n",
    "\n"
   ]
  },
  {
   "cell_type": "code",
   "execution_count": 22,
   "metadata": {
    "collapsed": false
   },
   "outputs": [
    {
     "data": {
      "text/plain": [
       "1074"
      ]
     },
     "execution_count": 22,
     "metadata": {},
     "output_type": "execute_result"
    }
   ],
   "source": [
    "(*\n",
    "let triangle = [|\n",
    "    [| 8; 5; 9; 3; |]\n",
    "    [| 2; 4; 6; |]\n",
    "    [| 7; 4; |]\n",
    "    [| 3 |]    \n",
    "|]\n",
    "*)\n",
    "\n",
    "let triangle = [|\n",
    "    [| 04; 62; 98; 27; 23; 09; 70; 98; 73; 93; 38; 53; 60; 04; 23 |]\n",
    "    [| 63; 66; 04; 68; 89; 53; 67; 30; 73; 16; 69; 87; 40; 31; |]\n",
    "    [| 91; 71; 52; 38; 17; 14; 91; 43; 58; 50; 27; 29; 48 |]\n",
    "    [| 70; 11; 33; 28; 77; 73; 17; 78; 39; 68; 17; 57 |]\n",
    "    [| 53; 71; 44; 65; 25; 43; 91; 52; 97; 51; 14 |]\n",
    "    [| 41; 48; 72; 33; 47; 32; 37; 16; 94; 29 |]\n",
    "    [| 41; 41; 26; 56; 83; 40; 80; 70; 33 |]\n",
    "    [| 99; 65; 04; 28; 06; 16; 70; 92; |]\n",
    "    [| 88; 02; 77; 73; 07; 63; 67 |]\n",
    "    [| 19; 01; 23; 75; 03; 34 |]\n",
    "    [| 20; 04; 82; 47; 65 |]\n",
    "    [| 18; 35; 87; 10 |]\n",
    "    [| 17; 47; 82; |]\n",
    "    [| 95; 64 |]\n",
    "    [| 75; |]\n",
    "|]\n",
    "\n",
    "let rec processRow (r:int) (rprev:int[]) =\n",
    "    if rprev.Length = 1 then rprev.[0]\n",
    "    else\n",
    "        [|0..(triangle.[r].Length - 1)|]\n",
    "        |> Array.map (fun i -> triangle.[r].[i] + (max (rprev.[i]) (rprev.[1+i])))\n",
    "        |> processRow (1 + r)\n",
    "\n",
    "processRow 1 triangle.[0]"
   ]
  },
  {
   "cell_type": "code",
   "execution_count": null,
   "metadata": {
    "collapsed": true
   },
   "outputs": [],
   "source": []
  }
 ],
 "metadata": {
  "kernelspec": {
   "display_name": "F#",
   "language": "fsharp",
   "name": "ifsharp"
  },
  "language": "fsharp",
  "language_info": {
   "codemirror_mode": "",
   "file_extension": ".fs",
   "mimetype": "text/x-fsharp",
   "name": "fsharp",
   "nbconvert_exporter": "",
   "pygments_lexer": "",
   "version": "4.3.1.0"
  }
 },
 "nbformat": 4,
 "nbformat_minor": 2
}
