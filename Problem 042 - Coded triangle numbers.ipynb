{
 "cells": [
  {
   "cell_type": "markdown",
   "metadata": {
    "deletable": true,
    "editable": true
   },
   "source": [
    "The nth term of the sequence of triangle numbers is given by, t(n) = ½n(n+1); so the first ten triangle numbers are:\n",
    "\n",
    "    1, 3, 6, 10, 15, 21, 28, 36, 45, 55, ...\n",
    "\n",
    "By converting each letter in a word to a number corresponding to its alphabetical position and adding these values we form a word value. For example, the word value for SKY is 19 + 11 + 25 = 55 = t(10). If the word value is a triangle number then we shall call the word a triangle word.\n",
    "\n",
    "Using words.txt (right click and 'Save Link/Target As...'), a 16K text file containing nearly two-thousand common English words, how many are triangle words?"
   ]
  },
  {
   "cell_type": "code",
   "execution_count": 1,
   "metadata": {
    "collapsed": false,
    "deletable": true,
    "editable": true
   },
   "outputs": [
    {
     "data": {
      "text/plain": [
       "162"
      ]
     },
     "execution_count": 1,
     "metadata": {},
     "output_type": "execute_result"
    }
   ],
   "source": [
    "open System.IO\n",
    "\n",
    "let triangle' n = (n / 2.0) * (n + 1.0)\n",
    "\n",
    "let triangleNumbers100 =  \n",
    "    [0..100]\n",
    "    |> List.map (float >> triangle' >> int)\n",
    "    |> Set.ofList\n",
    "\n",
    "let readLines (filePath:string) = seq {\n",
    "    use sr = new StreamReader (filePath)\n",
    "    while not sr.EndOfStream do\n",
    "        yield sr.ReadLine ()\n",
    "}\n",
    "\n",
    "let charScore c = int(c) - int('A') + 1\n",
    "\n",
    "let wordValue (word:string) = \n",
    "    word.ToCharArray()\n",
    "    |> Array.map charScore\n",
    "    |> Array.sum\n",
    "\n",
    "readLines \"resources/p042_words.txt\"\n",
    "|> Seq.map (fun s -> s.Replace(\"\\\"\",\"\"))\n",
    "|> Seq.map (fun s -> s.Split([|','|]))\n",
    "|> Seq.map Array.toList\n",
    "|> Seq.toList\n",
    "|> List.concat\n",
    "|> List.map wordValue\n",
    "|> List.filter (fun value -> triangleNumbers100.Contains(value))\n",
    "|> List.length"
   ]
  },
  {
   "cell_type": "code",
   "execution_count": null,
   "metadata": {
    "collapsed": true,
    "deletable": true,
    "editable": true
   },
   "outputs": [],
   "source": []
  }
 ],
 "metadata": {
  "kernelspec": {
   "display_name": "F#",
   "language": "fsharp",
   "name": "ifsharp"
  },
  "language": "fsharp",
  "language_info": {
   "codemirror_mode": "",
   "file_extension": ".fs",
   "mimetype": "text/x-fsharp",
   "name": "fsharp",
   "nbconvert_exporter": "",
   "pygments_lexer": "",
   "version": "4.3.1.0"
  }
 },
 "nbformat": 4,
 "nbformat_minor": 2
}
