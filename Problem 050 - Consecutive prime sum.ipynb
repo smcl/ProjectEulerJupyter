{
 "cells": [
  {
   "cell_type": "markdown",
   "metadata": {},
   "source": [
    "The prime 41, can be written as the sum of six consecutive primes:\n",
    "\n",
    "    41 = 2 + 3 + 5 + 7 + 11 + 13\n",
    "    \n",
    "This is the longest sum of consecutive primes that adds to a prime below one-hundred.\n",
    "\n",
    "The longest sum of consecutive primes below one-thousand that adds to a prime, contains 21 terms, and is equal to 953.\n",
    "\n",
    "Which prime, below one-million, can be written as the sum of the most consecutive primes?"
   ]
  },
  {
   "cell_type": "code",
   "execution_count": 8,
   "metadata": {
    "collapsed": false
   },
   "outputs": [
    {
     "data": {
      "text/plain": [
       "(997651, 542)"
      ]
     },
     "execution_count": 8,
     "metadata": {},
     "output_type": "execute_result"
    }
   ],
   "source": [
    "let enumerate_array (a:'a []) =\n",
    "    seq { for i in 0 .. (a.Length-1) -> (i, a.[i]) }\n",
    "\n",
    "let compositesInRange fromNum toNum =\n",
    "    [|2 .. toNum/fromNum|]\n",
    "    |> Array.map (fun x -> fromNum * x)\n",
    "    \n",
    "let primesTo n =\n",
    "    // start off assuming every number from 0 .. n is prime\n",
    "    let isPrime = Array.init (1+n) (fun _ -> true)\n",
    "    \n",
    "    isPrime.[0] <- false\n",
    "    isPrime.[1] <- false\n",
    "    \n",
    "    // simple sieve of eratosthenes - update \"primeness\" of\n",
    "    // each number in the isPrime array\n",
    "    for x in 2 .. int(sqrt(double(n))) do \n",
    "        if isPrime.[x] then             \n",
    "            compositesInRange x n\n",
    "            |> Array.map (fun i -> isPrime.[i] <- false)\n",
    "            |> ignore\n",
    "\n",
    "    enumerate_array isPrime\n",
    "    |> Seq.filter (fun (i,t) -> t)\n",
    "    |> Seq.map fst\n",
    "\n",
    "let limit = 1000000\n",
    "let primesToMillion = primesTo limit |> Seq.toArray\n",
    "let primesToMillionSet = primesToMillion |> Set.ofArray\n",
    "\n",
    "let rec consecutivePrimes' i currentCount currentSum maxCount maxSum =   \n",
    "    let newSum = currentSum + primesToMillion.[i]\n",
    "    if newSum >= limit then (maxSum, maxCount)\n",
    "    elif primesToMillionSet.Contains(newSum) && currentCount > maxCount then\n",
    "        consecutivePrimes' (i+1) (currentCount+1) newSum currentCount newSum\n",
    "    else\n",
    "        consecutivePrimes' (i+1) (currentCount+1) newSum maxCount maxSum\n",
    "\n",
    "let consecutivePrimesStartingAt i =\n",
    "    consecutivePrimes' i 0 0 -1 -1\n",
    "    \n",
    "// hacky :-(\n",
    "[0..10000]\n",
    "|> List.map consecutivePrimesStartingAt\n",
    "|> List.sortBy (fun (s,c) -> -c)\n",
    "|> List.head"
   ]
  }
 ],
 "metadata": {
  "kernelspec": {
   "display_name": "F#",
   "language": "fsharp",
   "name": "ifsharp"
  },
  "language": "fsharp",
  "language_info": {
   "codemirror_mode": "",
   "file_extension": ".fs",
   "mimetype": "text/x-fsharp",
   "name": "fsharp",
   "nbconvert_exporter": "",
   "pygments_lexer": "",
   "version": "4.3.1.0"
  }
 },
 "nbformat": 4,
 "nbformat_minor": 2
}
