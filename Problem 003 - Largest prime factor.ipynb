{
 "cells": [
  {
   "cell_type": "markdown",
   "metadata": {
    "collapsed": true,
    "deletable": true,
    "editable": true
   },
   "source": [
    "The prime factors of 13195 are 5, 7, 13 and 29.\n",
    "\n",
    "What is the largest prime factor of the number 600851475143 ?"
   ]
  },
  {
   "cell_type": "code",
   "execution_count": 53,
   "metadata": {
    "collapsed": false,
    "deletable": true,
    "editable": true
   },
   "outputs": [
    {
     "data": {
      "text/plain": [
       "6857"
      ]
     },
     "execution_count": 53,
     "metadata": {},
     "output_type": "execute_result"
    }
   ],
   "source": [
    "// to find the largest prime factor `N` we'll find all primes up\n",
    "// to sqrt(N), filter out non factors and find the largest\n",
    "\n",
    "let limit = 600851475143UL\n",
    " \n",
    "let compositesInRange fromNum toNum =\n",
    "    [|2 .. toNum/fromNum|]\n",
    "    |> Array.map (fun x -> fromNum * x)\n",
    "\n",
    "let primesTo n =\n",
    "    // start off assuming every number from 0 .. n is prime\n",
    "    let isPrime = Array.init (1+n) (fun _ -> true)\n",
    "    \n",
    "    // simple sieve of eratosthenes - update \"primeness\" of\n",
    "    // each number in the isPrime array\n",
    "    for x in 2 .. int(sqrt(double(n))) do \n",
    "        if isPrime.[x] then             \n",
    "            compositesInRange x n\n",
    "            |> Array.map (fun i -> isPrime.[i] <- false)\n",
    "            |> ignore\n",
    "                \n",
    "    // now return numbers which are \"true\" in isPrime array\n",
    "    [2..n]\n",
    "    |> List.filter (fun x -> isPrime.[x])\n",
    "\n",
    "primesTo (int(sqrt(double(limit))))\n",
    "|> List.filter (fun x -> (limit % uint64(x) = 0UL))\n",
    "|> List.last"
   ]
  },
  {
   "cell_type": "code",
   "execution_count": null,
   "metadata": {
    "collapsed": true,
    "deletable": true,
    "editable": true
   },
   "outputs": [],
   "source": []
  }
 ],
 "metadata": {
  "kernelspec": {
   "display_name": "F#",
   "language": "fsharp",
   "name": "ifsharp"
  },
  "language": "fsharp",
  "language_info": {
   "codemirror_mode": "",
   "file_extension": ".fs",
   "mimetype": "text/x-fsharp",
   "name": "fsharp",
   "nbconvert_exporter": "",
   "pygments_lexer": "",
   "version": "4.3.1.0"
  }
 },
 "nbformat": 4,
 "nbformat_minor": 2
}
